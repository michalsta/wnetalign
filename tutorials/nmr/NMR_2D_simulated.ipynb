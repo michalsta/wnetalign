{
 "cells": [
  {
   "cell_type": "markdown",
   "id": "bcf49458-e26e-4ace-8697-c8f99e23beca",
   "metadata": {},
   "source": [
    "# Alignment of 2D NMR data using WNetAlign"
   ]
  },
  {
   "cell_type": "code",
   "execution_count": 1,
   "id": "f83fee50-9a93-4343-86b9-1ebef57a72a3",
   "metadata": {},
   "outputs": [],
   "source": [
    "import numpy as np\n",
    "import pandas as pd\n",
    "\n",
    "import matplotlib.pyplot as plt\n",
    "import seaborn as sns"
   ]
  },
  {
   "cell_type": "code",
   "execution_count": null,
   "id": "9052e448-b6b6-43f5-a449-887ccc56462d",
   "metadata": {},
   "outputs": [],
   "source": [
    "from nmr.load_spectra import load_spectrum, load_spectra\n",
    "from nmr.align import align_pair, save_alignment\n",
    "from nmr.postprocess import postprocess_simulated_pair\n",
    "from nmr.simulate import simulate_2d_shifts\n",
    "from nmr.postprocess import postprocess_simulated_chain_results, postprocess_chain_results\n",
    "from nmr.metrics import metrics_simulated_CM\n",
    "from nmr.nmr_plots import plot_temperatures"
   ]
  },
  {
   "cell_type": "code",
   "execution_count": null,
   "id": "48c66a6e-c789-4a83-b380-6755af4bff32",
   "metadata": {},
   "outputs": [],
   "source": [
    "FIG_PATH = \"Figures\""
   ]
  },
  {
   "cell_type": "code",
   "execution_count": 8,
   "id": "a3353ae0-856d-475e-ba82-4f3b1ffed4a6",
   "metadata": {},
   "outputs": [],
   "source": [
    "DATA_PATH = \"2D/15N_HSQC_GB1_reduced\""
   ]
  },
  {
   "cell_type": "code",
   "execution_count": 9,
   "id": "0a2083d7-9f86-4745-9de5-e3933d40cad7",
   "metadata": {},
   "outputs": [],
   "source": [
    "max_peak_fraction = 0.1"
   ]
  },
  {
   "cell_type": "code",
   "execution_count": null,
   "id": "444586f7-d349-4eb7-8569-34af23fa01d7",
   "metadata": {},
   "outputs": [],
   "source": []
  },
  {
   "cell_type": "markdown",
   "id": "8a3350a6-e353-4eff-96ae-c72e09f2fd08",
   "metadata": {},
   "source": [
    "## Simulate the synthetic temperature series"
   ]
  },
  {
   "cell_type": "code",
   "execution_count": null,
   "id": "38659085-8cf3-4540-bec7-1e6f2f3f9522",
   "metadata": {},
   "outputs": [],
   "source": [
    "h_lim = (0.015, 0.035)\n",
    "n_lim = (-0.01, 0.015)\n",
    "h_t_lim = (0, 0.01)\n",
    "n_t_lim = (0, 0.005)\n",
    "\n",
    "OUT_FOLDER = \"2D/15N_HSQC_GB1_simulated/max_peak_fraction\"\n",
    "OUT_FOLDER = f\"{OUT_FOLDER}/H_{h_lim}_{h_t_lim}_N_{n_lim}_{n_t_lim}\"\n",
    "\n",
    "simulated_spectra, _, _ = simulate_2d_shifts(data_path=DATA_PATH,\n",
    "                                             k=54,\n",
    "                                             scale_nucl={\"N\": 10},\n",
    "                                             max_peak_fraction=max_peak_fraction,\n",
    "                                             h_lim = h_lim,\n",
    "                                             n_lim = n_lim,\n",
    "                                             h_t_lim = h_t_lim,\n",
    "                                             n_t_lim = n_t_lim,\n",
    "                                             OUT_FOLDER = OUT_FOLDER,\n",
    "                                             seed = 0,\n",
    "                                             default_rng = False,\n",
    "                                            )"
   ]
  },
  {
   "cell_type": "code",
   "execution_count": null,
   "id": "e4c76b9a-1c38-447b-93cf-4b9b3c7b58fe",
   "metadata": {},
   "outputs": [],
   "source": [
    "DATA_PATH = \"./15N_HSQC_GB1_reduced\"\n",
    "max_peak_fraction = 0.1\n",
    "h_lim = (0.015, 0.035)\n",
    "n_lim = (-0.01, 0.015)\n",
    "h_t_lim = (0, 0.01)\n",
    "n_t_lim = (0, 0.005)\n",
    "i_s_lim = (0.8, 0.9)\n",
    "OUT_FOLDER = \"./15N_HSQC_GB1_simulated/max_peak_fraction\"\n",
    "OUT_FOLDER = f\"{OUT_FOLDER}/H_{h_lim}_{h_t_lim}_N_{n_lim}_{n_t_lim}_I_{i_s_lim}\"\n",
    "\n",
    "simulated_spectra, _, _ = simulate_2d_shifts(data_path=DATA_PATH,\n",
    "                              k=54,\n",
    "                              scale_N=10,\n",
    "                              max_peak_fraction=max_peak_fraction,\n",
    "                              h_lim = h_lim,\n",
    "                              n_lim = n_lim,\n",
    "                              h_t_lim = h_t_lim,\n",
    "                              n_t_lim = n_t_lim,\n",
    "                              i_s_lim = i_s_lim,\n",
    "                              OUT_FOLDER = OUT_FOLDER,\n",
    "                             )\n",
    "\n",
    "plot_temperatures(data_path=OUT_FOLDER, \n",
    "                  max_peak_fraction=None, \n",
    "                  intensity_threshold=0,\n",
    "                  cmap_name=\"plasma\", \n",
    "                  figsize=(9,6), \n",
    "                  dpi=300,\n",
    "                  alpha=0.8,\n",
    "                  s=1,\n",
    "                  hlim = (6.5, 10.75), # (6, 11)\n",
    "                  nlim = (102, 136), # (100, 136)\n",
    "                 )\n",
    "plt.title('Simulated $^1$H $^{15}$N HSQC spectra of GB1 protein')\n",
    "OUT_PATH = f\"{FIG_PATH}/GB1_simulated_mpf_{max_peak_fraction}.png\"\n",
    "plt.savefig(OUT_PATH)\n",
    "plt.show()\n",
    "\n",
    "DATA_PATH = \"./15N_HSQC_GB1_reduced\"\n",
    "plot_temperatures(data_path=DATA_PATH, \n",
    "                  max_peak_fraction=max_peak_fraction, \n",
    "                  intensity_threshold=None,\n",
    "                  cmap_name=\"plasma\", \n",
    "                  figsize=(9,6), \n",
    "                  dpi=300,\n",
    "                  alpha=0.8,\n",
    "                  s=1,\n",
    "                  hlim = (6.5, 10.75), # (6, 11)\n",
    "                  nlim = (102, 136), # (100, 136)\n",
    "                 )\n",
    "OUT_PATH = f\"{FIG_PATH}/GB1_mpf_{max_peak_fraction}.png\"\n",
    "plt.savefig(OUT_PATH)\n",
    "plt.show()"
   ]
  }
 ],
 "metadata": {
  "kernelspec": {
   "display_name": "Python [conda env:mass]",
   "language": "python",
   "name": "conda-env-mass-py"
  },
  "language_info": {
   "codemirror_mode": {
    "name": "ipython",
    "version": 3
   },
   "file_extension": ".py",
   "mimetype": "text/x-python",
   "name": "python",
   "nbconvert_exporter": "python",
   "pygments_lexer": "ipython3",
   "version": "3.13.2"
  }
 },
 "nbformat": 4,
 "nbformat_minor": 5
}
