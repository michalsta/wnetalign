{
 "cells": [
  {
   "cell_type": "code",
   "execution_count": 1,
   "id": "1c443afc",
   "metadata": {},
   "outputs": [],
   "source": [
    "from lcms_align import *"
   ]
  },
  {
   "cell_type": "markdown",
   "id": "f636209e",
   "metadata": {
    "vscode": {
     "languageId": "markdown"
    }
   },
   "source": [
    "First, we will load LC-MS data from example CSV files. These files contain detected features in centroid mode. The corresponding raw files are available in the PXD000484 dataset on the PRIDE repository. Each feature includes information such as the mass-to-charge ratio (m/z), retention time, and intensity, providing a concise summary of the detected compounds in each sample."
   ]
  },
  {
   "cell_type": "code",
   "execution_count": 2,
   "id": "2f5a4dc2",
   "metadata": {},
   "outputs": [],
   "source": [
    "filename1 = '100825O2c1_MT-AU-0044-2010-08-15_038.csv' \n",
    "filename2 = '100820O2c1_MT-AU-0044-2010-08-1_030.csv'\n",
    "# filename3 = '121004OTc2_TDM-AU-0324-EMC-1_011.csv'\n",
    "\n",
    "sp1 = pd.read_csv(f'data/{filename1}')\n",
    "sp2 = pd.read_csv(f'data/{filename2}')\n",
    "# sp3 = pd.read_csv(f'data/{filename3}')"
   ]
  },
  {
   "cell_type": "markdown",
   "id": "cf9f2b8f",
   "metadata": {
    "vscode": {
     "languageId": "markdown"
    }
   },
   "source": [
    "To perform alignment and further analysis, we need to convert the loaded dataframes (`sp1` and `sp2`) into `Spectrum` objects. The `Spectrum` class is designed to represent LC-MS features in a structured format, making it easier to process and compare the data from different samples. "
   ]
  },
  {
   "cell_type": "code",
   "execution_count": 3,
   "id": "8cbf23dd",
   "metadata": {},
   "outputs": [],
   "source": [
    "# create Spectrum objects\n",
    "S1 = Spectrum(np.array([sp1['m/z'].values, sp1['Retention time'].values]), np.array(sp1['Intensity'].values))\n",
    "S2 = Spectrum(np.array([sp2['m/z'].values, sp2['Retention time'].values]), np.array(sp2['Intensity'].values))"
   ]
  },
  {
   "cell_type": "markdown",
   "id": "4a00dc76",
   "metadata": {
    "vscode": {
     "languageId": "markdown"
    }
   },
   "source": [
    "Now we need to define the alignment parameters `max_mz_shift` and `max_rt_shift`. These parameters specify the maximum allowed differences in mass-to-charge ratio (m/z) and retention time (RT) when matching features between spectra. Setting appropriate values for these thresholds is crucial for accurate alignment.\n",
    "The optimal values for these parameters can vary depending on the resolution and accuracy of the mass spectrometer used for data acquisition."
   ]
  },
  {
   "cell_type": "code",
   "execution_count": 4,
   "id": "7c846f62",
   "metadata": {},
   "outputs": [],
   "source": [
    "# define parameters\n",
    "max_mz_shift = 0.005\n",
    "max_rt_shift = 800"
   ]
  },
  {
   "cell_type": "markdown",
   "id": "60a7d6a3",
   "metadata": {
    "vscode": {
     "languageId": "markdown"
    }
   },
   "source": [
    "Now we align the spectra using the defined parameters. The alignment process matches features between the two `Spectrum` objects (`S1` and `S2`) based on their mass-to-charge ratio (m/z) and retention time (RT) within the specified thresholds. The result is a dataframe containing pairs of matching features from each spectrum, allowing for direct comparison of corresponding compounds across the samples."
   ]
  },
  {
   "cell_type": "code",
   "execution_count": 5,
   "id": "be4316d6",
   "metadata": {},
   "outputs": [
    {
     "data": {
      "text/html": [
       "<div>\n",
       "<style scoped>\n",
       "    .dataframe tbody tr th:only-of-type {\n",
       "        vertical-align: middle;\n",
       "    }\n",
       "\n",
       "    .dataframe tbody tr th {\n",
       "        vertical-align: top;\n",
       "    }\n",
       "\n",
       "    .dataframe thead th {\n",
       "        text-align: right;\n",
       "    }\n",
       "</style>\n",
       "<table border=\"1\" class=\"dataframe\">\n",
       "  <thead>\n",
       "    <tr style=\"text-align: right;\">\n",
       "      <th></th>\n",
       "      <th>m/z_S1</th>\n",
       "      <th>Retention time_S1</th>\n",
       "      <th>Intensity_S1</th>\n",
       "      <th>m/z_S2</th>\n",
       "      <th>Retention time_S2</th>\n",
       "      <th>Intensity_S2</th>\n",
       "    </tr>\n",
       "  </thead>\n",
       "  <tbody>\n",
       "    <tr>\n",
       "      <th>0</th>\n",
       "      <td>415.212107</td>\n",
       "      <td>11247.284257</td>\n",
       "      <td>1.077727e+09</td>\n",
       "      <td>415.211922</td>\n",
       "      <td>11223.972534</td>\n",
       "      <td>1.212435e+09</td>\n",
       "    </tr>\n",
       "    <tr>\n",
       "      <th>1</th>\n",
       "      <td>421.758811</td>\n",
       "      <td>3469.870316</td>\n",
       "      <td>1.072969e+09</td>\n",
       "      <td>421.758814</td>\n",
       "      <td>3379.488346</td>\n",
       "      <td>1.818847e+09</td>\n",
       "    </tr>\n",
       "    <tr>\n",
       "      <th>2</th>\n",
       "      <td>422.293553</td>\n",
       "      <td>11247.875185</td>\n",
       "      <td>1.640759e+09</td>\n",
       "      <td>422.293496</td>\n",
       "      <td>11226.669059</td>\n",
       "      <td>9.239702e+08</td>\n",
       "    </tr>\n",
       "    <tr>\n",
       "      <th>3</th>\n",
       "      <td>714.345984</td>\n",
       "      <td>5521.682102</td>\n",
       "      <td>8.947495e+08</td>\n",
       "      <td>714.345924</td>\n",
       "      <td>5380.917067</td>\n",
       "      <td>7.991051e+08</td>\n",
       "    </tr>\n",
       "    <tr>\n",
       "      <th>4</th>\n",
       "      <td>710.378424</td>\n",
       "      <td>7330.143344</td>\n",
       "      <td>1.183985e+09</td>\n",
       "      <td>710.378374</td>\n",
       "      <td>7197.065563</td>\n",
       "      <td>7.264030e+08</td>\n",
       "    </tr>\n",
       "    <tr>\n",
       "      <th>...</th>\n",
       "      <td>...</td>\n",
       "      <td>...</td>\n",
       "      <td>...</td>\n",
       "      <td>...</td>\n",
       "      <td>...</td>\n",
       "      <td>...</td>\n",
       "    </tr>\n",
       "    <tr>\n",
       "      <th>25498</th>\n",
       "      <td>667.314245</td>\n",
       "      <td>3638.255458</td>\n",
       "      <td>5.854923e+05</td>\n",
       "      <td>667.310929</td>\n",
       "      <td>2921.298990</td>\n",
       "      <td>1.044441e+06</td>\n",
       "    </tr>\n",
       "    <tr>\n",
       "      <th>25499</th>\n",
       "      <td>401.290060</td>\n",
       "      <td>10640.795713</td>\n",
       "      <td>2.099917e+04</td>\n",
       "      <td>401.290974</td>\n",
       "      <td>10916.691308</td>\n",
       "      <td>3.209108e+06</td>\n",
       "    </tr>\n",
       "    <tr>\n",
       "      <th>25500</th>\n",
       "      <td>407.742778</td>\n",
       "      <td>3151.654479</td>\n",
       "      <td>4.165283e+05</td>\n",
       "      <td>407.744432</td>\n",
       "      <td>3870.966262</td>\n",
       "      <td>1.247250e+06</td>\n",
       "    </tr>\n",
       "    <tr>\n",
       "      <th>25501</th>\n",
       "      <td>505.299007</td>\n",
       "      <td>9790.396524</td>\n",
       "      <td>6.644074e+04</td>\n",
       "      <td>505.299451</td>\n",
       "      <td>10391.065797</td>\n",
       "      <td>1.417621e+04</td>\n",
       "    </tr>\n",
       "    <tr>\n",
       "      <th>25502</th>\n",
       "      <td>573.808806</td>\n",
       "      <td>4056.240227</td>\n",
       "      <td>9.700547e+05</td>\n",
       "      <td>573.805891</td>\n",
       "      <td>3785.524720</td>\n",
       "      <td>1.519400e+06</td>\n",
       "    </tr>\n",
       "  </tbody>\n",
       "</table>\n",
       "<p>25503 rows × 6 columns</p>\n",
       "</div>"
      ],
      "text/plain": [
       "           m/z_S1  Retention time_S1  Intensity_S1      m/z_S2  \\\n",
       "0      415.212107       11247.284257  1.077727e+09  415.211922   \n",
       "1      421.758811        3469.870316  1.072969e+09  421.758814   \n",
       "2      422.293553       11247.875185  1.640759e+09  422.293496   \n",
       "3      714.345984        5521.682102  8.947495e+08  714.345924   \n",
       "4      710.378424        7330.143344  1.183985e+09  710.378374   \n",
       "...           ...                ...           ...         ...   \n",
       "25498  667.314245        3638.255458  5.854923e+05  667.310929   \n",
       "25499  401.290060       10640.795713  2.099917e+04  401.290974   \n",
       "25500  407.742778        3151.654479  4.165283e+05  407.744432   \n",
       "25501  505.299007        9790.396524  6.644074e+04  505.299451   \n",
       "25502  573.808806        4056.240227  9.700547e+05  573.805891   \n",
       "\n",
       "       Retention time_S2  Intensity_S2  \n",
       "0           11223.972534  1.212435e+09  \n",
       "1            3379.488346  1.818847e+09  \n",
       "2           11226.669059  9.239702e+08  \n",
       "3            5380.917067  7.991051e+08  \n",
       "4            7197.065563  7.264030e+08  \n",
       "...                  ...           ...  \n",
       "25498        2921.298990  1.044441e+06  \n",
       "25499       10916.691308  3.209108e+06  \n",
       "25500        3870.966262  1.247250e+06  \n",
       "25501       10391.065797  1.417621e+04  \n",
       "25502        3785.524720  1.519400e+06  \n",
       "\n",
       "[25503 rows x 6 columns]"
      ]
     },
     "execution_count": 5,
     "metadata": {},
     "output_type": "execute_result"
    }
   ],
   "source": [
    "align_spectra(S1, S2, max_mz_shift, max_rt_shift)"
   ]
  }
 ],
 "metadata": {
  "kernelspec": {
   "display_name": "venv",
   "language": "python",
   "name": "python3"
  },
  "language_info": {
   "codemirror_mode": {
    "name": "ipython",
    "version": 3
   },
   "file_extension": ".py",
   "mimetype": "text/x-python",
   "name": "python",
   "nbconvert_exporter": "python",
   "pygments_lexer": "ipython3",
   "version": "3.11.11"
  }
 },
 "nbformat": 4,
 "nbformat_minor": 5
}
